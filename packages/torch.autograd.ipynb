{
 "cells": [
  {
   "cell_type": "markdown",
   "metadata": {},
   "source": [
    "# Automatic Differentiation"
   ]
  },
  {
   "cell_type": "markdown",
   "metadata": {},
   "source": [
    "### *torch.autograd* provides classes and functions implementing automatic differentiation of arbitrary scalar valued functions. It requires minimal changes to the existing code - you only need to declare *Tensor*s for which gradients should be computed with the *requires_grad=True* keyword."
   ]
  },
  {
   "cell_type": "markdown",
   "metadata": {},
   "source": [
    "## Example"
   ]
  },
  {
   "cell_type": "markdown",
   "metadata": {},
   "source": [
    "### 表达式：y= x^TAx\n",
    "#### 计算图"
   ]
  },
  {
   "cell_type": "markdown",
   "metadata": {},
   "source": [
    "[![irVr11.jpg](https://s1.ax1x.com/2018/10/23/irVr11.jpg)](https://imgchr.com/i/irVr11)"
   ]
  },
  {
   "cell_type": "markdown",
   "metadata": {},
   "source": [
    "[![irVHnf.jpg](https://s1.ax1x.com/2018/10/23/irVHnf.jpg)](https://imgchr.com/i/irVHnf)"
   ]
  },
  {
   "cell_type": "markdown",
   "metadata": {},
   "source": [
    "#### 反向传播算梯度\n",
    "[![irVOAg.jpg](https://s1.ax1x.com/2018/10/23/irVOAg.jpg)](https://imgchr.com/i/irVOAg)\n",
    "\n",
    "[![irVXNQ.jpg](https://s1.ax1x.com/2018/10/23/irVXNQ.jpg)](https://imgchr.com/i/irVXNQ)\n",
    "\n",
    "[![irZE4J.jpg](https://s1.ax1x.com/2018/10/23/irZE4J.jpg)](https://imgchr.com/i/irZE4J)\n",
    "\n",
    "[![irZZC9.jpg](https://s1.ax1x.com/2018/10/23/irZZC9.jpg)](https://imgchr.com/i/irZZC9)"
   ]
  },
  {
   "cell_type": "markdown",
   "metadata": {},
   "source": [
    "## 自动求导如何编码历史信息\n",
    "### 每次执行一个操作时，一个表示它的新*Function*就被实例化，它的*forward*方法被调用，并且它输出的*Tensor*的*grad_fn*被设置为这个*Function*."
   ]
  },
  {
   "cell_type": "markdown",
   "metadata": {},
   "source": [
    "[![irnY8J.png](https://s1.ax1x.com/2018/10/23/irnY8J.png)](https://imgchr.com/i/irnY8J)"
   ]
  },
  {
   "cell_type": "code",
   "execution_count": null,
   "metadata": {},
   "outputs": [],
   "source": []
  }
 ],
 "metadata": {
  "kernelspec": {
   "display_name": "Python 3",
   "language": "python",
   "name": "python3"
  },
  "language_info": {
   "codemirror_mode": {
    "name": "ipython",
    "version": 3
   },
   "file_extension": ".py",
   "mimetype": "text/x-python",
   "name": "python",
   "nbconvert_exporter": "python",
   "pygments_lexer": "ipython3",
   "version": "3.6.6"
  },
  "varInspector": {
   "cols": {
    "lenName": 16,
    "lenType": 16,
    "lenVar": 40
   },
   "kernels_config": {
    "python": {
     "delete_cmd_postfix": "",
     "delete_cmd_prefix": "del ",
     "library": "var_list.py",
     "varRefreshCmd": "print(var_dic_list())"
    },
    "r": {
     "delete_cmd_postfix": ") ",
     "delete_cmd_prefix": "rm(",
     "library": "var_list.r",
     "varRefreshCmd": "cat(var_dic_list()) "
    }
   },
   "types_to_exclude": [
    "module",
    "function",
    "builtin_function_or_method",
    "instance",
    "_Feature"
   ],
   "window_display": false
  }
 },
 "nbformat": 4,
 "nbformat_minor": 2
}
